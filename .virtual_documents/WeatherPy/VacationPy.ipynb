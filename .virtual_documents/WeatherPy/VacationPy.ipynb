


# Dependencies and Setup
import hvplot.pandas
import pandas as pd
import requests

# Import API key
from api_keys import geoapify_key


# Load the CSV file created in Part 1 into a Pandas DataFrame
city_data_df = pd.read_csv("output_data/cities.csv")

# Display sample data
city_data_df.head()





%%capture --no-display

humidity = city_data_df['Humidity'].astype(int)

# Configure the map plot
map_plot = city_data_df.hvplot.points('Lng','Lat',geo=True,tiles='OSM',size='Humidity',color='City')

# Display the map
map_plot





# Narrow down cities that fit criteria and drop any results with null values
city_data_df = city_data_df.loc[(city_data_df["Max Temp"] < 36) & (city_data_df["Max Temp"] > 28)] #82.5F to 96.8F
city_data_df = city_data_df.loc[(city_data_df["Cloudiness"] < 25)]  #Mostly clear skies

# Drop any rows with null values
city_data_df = city_data_df.dropna()

# Display sample data
city_data_df





# Use the Pandas copy function to create DataFrame called hotel_df to store the city, country, coordinates, and humidity
hotel_df = city_data_df[['City', 'Country', 'Lat', 'Lng', 'Humidity']].copy()

# Add an empty column, "Hotel Name," to the DataFrame so you can store the hotel found using the Geoapify API
hotel_df['Hotel Name'] = ''

# Display sample data
hotel_df





geoapify_key


import requests
from requests.structures import CaseInsensitiveDict

url = "https://api.geoapify.com/v2/places?categories=commercial.supermarket&filter=rect%3A10.716463143326969%2C48.755151258420966%2C10.835314015356737%2C48.680903341613316&limit=20&apiKey=50916732a85d4e288ed6430c7daf25bc"

headers = CaseInsensitiveDict()
headers["Accept"] = "application/json"

resp = requests.get(url, headers=headers)

print(resp.url)
print(resp.status_code)


######ORIGINAL CODE#####
import requests
from requests.structures import CaseInsensitiveDict

# Set parameters to search for a hotel
radius = 10000
params = {
    'categories': 'accomodation.hotel',
    'apikey':geoapify_key
}

# Print a message to follow up the hotel search
print("Starting hotel search")

# Iterate through the hotel_df DataFrame
for index, row in hotel_df.iterrows():
    # get latitude, longitude from the DataFrame
    lon = row['Lng']
    lat = row['Lat']

    # Add the current city's latitude and longitude to the params dictionary
    params["filter"] = f'circle:{lon},{lat},{radius}'
    params["bias"] = f'proximity:{lon},{lat}'

    # Set base URL
    base_url = "https://api.geoapify.com/v2/places"
    
    # Make and API request using the params dictionary
    nearest_hotel = requests.get(base_url, params=params)

    # Print the full URL for the request
    #print(f"Full Request URL: {nearest_hotel.url}")
    
    # Print the response status for debugging
    print(f"Status Code: {nearest_hotel.status_code}")
    #print(f"Response: {nearest_hotel.text}")
    
    # Convert the API response to JSON format
    nearest_hotel = nearest_hotel.json()

    # Grab the first hotel from the results and store the name in the hotel_df DataFrame
    try:
        hotel_df.loc[index, "Hotel Name"] = nearest_hotel["features"][0]["properties"]["name"]
    except (KeyError, IndexError):
        # If no hotel is found, set the hotel name as "No hotel found".
        hotel_df.loc[index, "Hotel Name"] = "No hotel found"

    # Log the search results
    print(f"{hotel_df.loc[index, 'City']} - nearest hotel: {hotel_df.loc[index, 'Hotel Name']}")

# Display sample data
hotel_df





%%capture --no-display

# Configure the map plot
# YOUR CODE HERE

# Display the map
# YOUR CODE HERE



